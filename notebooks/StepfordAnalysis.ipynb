{
 "cells": [
  {
   "cell_type": "code",
   "execution_count": 1,
   "metadata": {},
   "outputs": [],
   "source": [
    "# @TODO \n",
    "\n",
    "# - DATA NEEDS TO BE CLEANED, ALL QUERIES NORMALISED FOR AVERAGE SCORES\n",
    "# - discrepancy between local mongo results and notebook mongo results (amount of score fields) >> #@TODO WHY REPEATED ALL THE TIME? 1 2 1 1 1 \n",
    "\n",
    "\n",
    "# - wrong heat plot averages\n",
    "\n",
    "# - check empty scores, not correct in last table? > Remove 3 NaNs\n",
    "# - check length difference print and display tables"
   ]
  },
  {
   "cell_type": "code",
   "execution_count": 2,
   "metadata": {},
   "outputs": [],
   "source": [
    "# IDEAS\n",
    "# - wordcount high score"
   ]
  },
  {
   "cell_type": "code",
   "execution_count": 3,
   "metadata": {},
   "outputs": [
    {
     "name": "stdout",
     "output_type": "stream",
     "text": [
      "[{'col': 'system.version', 'id': 'admin', 'count': 1}, {'col': 'system.sessions', 'id': 'config', 'count': 0}, {'col': 'startup_log', 'id': 'local', 'count': 9}, {'col': 'mps', 'id': 'mptweets', 'count': 66}, {'col': 'tweets', 'id': 'mptweets', 'count': 13674}, {'col': 'capturedtweets', 'id': 'mptweets', 'count': 45913}, {'col': 'system.views', 'id': 'stepford', 'count': 1}, {'col': 'Conversion', 'id': 'stepford', 'count': 2}, {'col': 'Review', 'id': 'stepford', 'count': 37}, {'col': 'ProcessedStorySegment', 'id': 'stepford', 'count': 7}, {'col': 'Story', 'id': 'stepford', 'count': 4}, {'col': 'StorySegment', 'id': 'stepford', 'count': 10}, {'col': 'firstview', 'id': 'stepford', 'count': 6}]\n"
     ]
    }
   ],
   "source": [
    "from pymongo import MongoClient\n",
    "client = MongoClient(\"mongodb://localhost:27017/\")\n",
    "\n",
    "result = []\n",
    "for dbname in client.database_names():\n",
    "    db = client[dbname]\n",
    "    for collection in db.collection_names():\n",
    "        count = db[collection].count()\n",
    "        result.append({'id': dbname, 'col': collection, 'count': count})\n",
    "print(result)\n",
    "\n",
    "# Maartje local\n",
    "#[{'id': 'Downloads', 'col': 'demo-data', 'count': 1000}, {'id': 'admin', 'col': 'system.users', 'count': 2}, {'id': 'admin', 'col': 'system.version', 'count': 2}, {'id': 'config', 'col': 'system.sessions', 'count': 0}, {'id': 'gothiccsv', 'col': 'set_found', 'count': 2541}, {'id': 'gothiccsv', 'col': 'primarytexts', 'count': 2541}, {'id': 'gothiccsv', 'col': 'csv', 'count': 7373}, {'id': 'gothiccsv', 'col': 'set_all', 'count': 4832}, {'id': 'local', 'col': 'startup_log', 'count': 117}, {'id': 'mptweets', 'col': 'capturedtweets', 'count': 2621}, {'id': 'stepford', 'col': 'Conversion', 'count': 2}, {'id': 'stepford', 'col': 'ProcessedStorySegment', 'count': 2}, {'id': 'stepford', 'col': 'Story', 'count': 2}, {'id': 'stepford', 'col': 'StorySegment', 'count': 3}, {'id': 'stepford', 'col': 'Review', 'count': 5}, {'id': 'stepfordtest', 'col': 'stepfordtest', 'count': 0}]"
   ]
  },
  {
   "cell_type": "markdown",
   "metadata": {},
   "source": [
    " "
   ]
  },
  {
   "cell_type": "markdown",
   "metadata": {},
   "source": [
    " "
   ]
  },
  {
   "cell_type": "code",
   "execution_count": 18,
   "metadata": {},
   "outputs": [],
   "source": [
    "# --- imports ---\n",
    "\n",
    "import pandas as pd\n",
    "from IPython.display import display, HTML\n",
    "import numpy as np\n",
    "import seaborn as sns\n",
    "import math"
   ]
  },
  {
   "cell_type": "code",
   "execution_count": 5,
   "metadata": {},
   "outputs": [],
   "source": [
    "# --- mongo connection ---\n",
    "\n",
    "from pymongo import MongoClient\n",
    "\n",
    "#client = MongoClient(\"mongodb://host:port/\")\n",
    "client = MongoClient(\"mongodb://localhost:27017/\")\n",
    "database = client[\"stepford\"]\n",
    "collection = database[\"Review\"]\n",
    "\n",
    "\n",
    "# standard score match\n",
    "\n",
    "query = {}\n",
    "projection = {}\n",
    "projection[\"scores\"] = 1.0\n",
    "sort = [ (u\"scores\", 1) ]\n",
    "cursor = collection.find(query, projection = projection, sort = sort)\n",
    "\n",
    "results = []\n",
    "try:\n",
    "    for doc in cursor:\n",
    "        #print(doc)\n",
    "        results.append(doc['scores'])\n",
    "finally:\n",
    "    client.close()\n",
    "    "
   ]
  },
  {
   "cell_type": "code",
   "execution_count": 6,
   "metadata": {},
   "outputs": [
    {
     "name": "stdout",
     "output_type": "stream",
     "text": [
      "      0    1    2    3    4    5    6\n",
      "0   NaN  NaN  3.0  3.0  3.0  NaN  5.0\n",
      "1   1.0  2.0  4.0  NaN  NaN  NaN  NaN\n",
      "2   1.0  2.0  5.0  NaN  NaN  NaN  NaN\n",
      "3   4.0  1.0  2.0  4.0  5.0  NaN  NaN\n",
      "4   3.0  5.0  1.0  NaN  NaN  NaN  NaN\n",
      "5   3.0  5.0  1.0  NaN  NaN  NaN  NaN\n",
      "6   1.0  1.0  5.0  NaN  NaN  NaN  NaN\n",
      "7   2.0  4.0  1.0  NaN  NaN  NaN  NaN\n",
      "8   3.0  4.0  1.0  NaN  NaN  NaN  NaN\n",
      "9   2.0  2.0  1.0  NaN  NaN  NaN  NaN\n",
      "10  2.0  2.0  1.0  NaN  NaN  NaN  NaN\n",
      "11  1.0  3.0  1.0  NaN  NaN  NaN  NaN\n",
      "12  1.0  3.0  1.0  NaN  NaN  NaN  NaN\n",
      "13  1.0  3.0  2.0  NaN  NaN  NaN  NaN\n",
      "14  1.0  3.0  2.0  NaN  NaN  NaN  NaN\n",
      "15  2.0  1.0  1.0  NaN  NaN  NaN  NaN\n",
      "16  1.0  4.0  5.0  NaN  NaN  NaN  NaN\n",
      "17  1.0  4.0  5.0  NaN  NaN  NaN  NaN\n",
      "18  1.0  2.0  2.0  NaN  NaN  NaN  NaN\n",
      "19  1.0  2.0  2.0  NaN  NaN  NaN  NaN\n",
      "20  3.0  2.0  3.0  3.0  3.0  5.0  3.0\n",
      "21  4.0  3.0  5.0  2.0  4.0  3.0  3.0\n",
      "22  4.0  4.0  4.0  5.0  3.0  5.0  2.0\n",
      "23  3.0  2.0  3.0  2.0  4.0  3.0  4.0\n",
      "24  2.0  NaN  NaN  NaN  NaN  NaN  NaN\n",
      "25  2.0  5.0  NaN  NaN  NaN  NaN  NaN\n",
      "26  2.0  3.0  2.0  NaN  NaN  NaN  NaN\n",
      "27  2.0  2.0  2.0  NaN  NaN  NaN  NaN\n",
      "28  4.0  2.0  NaN  NaN  NaN  NaN  NaN\n",
      "29  3.0  NaN  NaN  NaN  NaN  NaN  NaN\n",
      "30  4.0  3.0  4.0  NaN  NaN  NaN  NaN\n",
      "31  3.0  NaN  NaN  NaN  NaN  NaN  NaN\n",
      "32  4.0  3.0  NaN  NaN  NaN  NaN  NaN\n",
      "33  3.0  4.0  4.0  NaN  NaN  NaN  NaN\n",
      "34  5.0  5.0  4.0  NaN  NaN  NaN  NaN\n",
      "35  5.0  5.0  4.0  NaN  NaN  NaN  NaN\n",
      "36  4.0  NaN  NaN  NaN  NaN  NaN  NaN\n"
     ]
    }
   ],
   "source": [
    "# --- pandas link ---\n",
    "\n",
    "# merging each row/list into a dataframe\n",
    "df = pd.DataFrame(results) # replacing empty strings with None\n",
    "df = df.replace('', np.nan).astype(float)\n",
    "print(df)\n"
   ]
  },
  {
   "cell_type": "markdown",
   "metadata": {},
   "source": [
    "### Text ranking analysis"
   ]
  },
  {
   "cell_type": "code",
   "execution_count": 51,
   "metadata": {},
   "outputs": [
    {
     "data": {
      "text/html": [
       "<div>\n",
       "<style scoped>\n",
       "    .dataframe tbody tr th:only-of-type {\n",
       "        vertical-align: middle;\n",
       "    }\n",
       "\n",
       "    .dataframe tbody tr th {\n",
       "        vertical-align: top;\n",
       "    }\n",
       "\n",
       "    .dataframe thead th {\n",
       "        text-align: right;\n",
       "    }\n",
       "</style>\n",
       "<table border=\"1\" class=\"dataframe\">\n",
       "  <thead>\n",
       "    <tr style=\"text-align: right;\">\n",
       "      <th></th>\n",
       "      <th>SegmentId</th>\n",
       "      <th>Score</th>\n",
       "      <th>Title</th>\n",
       "      <th>Observations</th>\n",
       "    </tr>\n",
       "  </thead>\n",
       "  <tbody>\n",
       "    <tr>\n",
       "      <th>21</th>\n",
       "      <td>1-1</td>\n",
       "      <td>0.0</td>\n",
       "      <td>Construction Worker</td>\n",
       "      <td>Female character being described in terms of ...</td>\n",
       "    </tr>\n",
       "    <tr>\n",
       "      <th>25</th>\n",
       "      <td>1-1</td>\n",
       "      <td>0.0</td>\n",
       "      <td>Construction Worker</td>\n",
       "      <td>Female character being described in terms of ...</td>\n",
       "    </tr>\n",
       "    <tr>\n",
       "      <th>20</th>\n",
       "      <td>1-1</td>\n",
       "      <td>0.0</td>\n",
       "      <td>Construction Worker</td>\n",
       "      <td>Female character being described in terms of ...</td>\n",
       "    </tr>\n",
       "    <tr>\n",
       "      <th>0</th>\n",
       "      <td>1-1</td>\n",
       "      <td>1.0</td>\n",
       "      <td>Test Story</td>\n",
       "      <td>Suggests there is a whole world where women h...</td>\n",
       "    </tr>\n",
       "    <tr>\n",
       "      <th>90</th>\n",
       "      <td>2-2</td>\n",
       "      <td>1.0</td>\n",
       "      <td>The Time Machine</td>\n",
       "      <td>Female character is described in terms of her...</td>\n",
       "    </tr>\n",
       "    <tr>\n",
       "      <th>...</th>\n",
       "      <td>...</td>\n",
       "      <td>...</td>\n",
       "      <td>...</td>\n",
       "      <td>...</td>\n",
       "    </tr>\n",
       "    <tr>\n",
       "      <th>14</th>\n",
       "      <td>2-1</td>\n",
       "      <td>5.0</td>\n",
       "      <td>The Ringworld Throne</td>\n",
       "      <td>States that female construction workers are v...</td>\n",
       "    </tr>\n",
       "    <tr>\n",
       "      <th>19</th>\n",
       "      <td>1-1</td>\n",
       "      <td>5.0</td>\n",
       "      <td>Construction Worker</td>\n",
       "      <td>Based on an unprovable generalisation.\\n     ...</td>\n",
       "    </tr>\n",
       "    <tr>\n",
       "      <th>29</th>\n",
       "      <td>1-1</td>\n",
       "      <td>5.0</td>\n",
       "      <td>Construction Worker</td>\n",
       "      <td>Female character being described in terms of ...</td>\n",
       "    </tr>\n",
       "    <tr>\n",
       "      <th>8</th>\n",
       "      <td>1-1</td>\n",
       "      <td>5.0</td>\n",
       "      <td>Test Story</td>\n",
       "      <td>Suggests that female characters are not capab...</td>\n",
       "    </tr>\n",
       "    <tr>\n",
       "      <th>60</th>\n",
       "      <td>2-1</td>\n",
       "      <td>5.0</td>\n",
       "      <td>The Time Machine</td>\n",
       "      <td>Female character is described in terms of bei...</td>\n",
       "    </tr>\n",
       "  </tbody>\n",
       "</table>\n",
       "<p>122 rows × 4 columns</p>\n",
       "</div>"
      ],
      "text/plain": [
       "   SegmentId  Score                 Title  \\\n",
       "21       1-1    0.0   Construction Worker   \n",
       "25       1-1    0.0   Construction Worker   \n",
       "20       1-1    0.0   Construction Worker   \n",
       "0        1-1    1.0            Test Story   \n",
       "90       2-2    1.0      The Time Machine   \n",
       "..       ...    ...                   ...   \n",
       "14       2-1    5.0  The Ringworld Throne   \n",
       "19       1-1    5.0   Construction Worker   \n",
       "29       1-1    5.0   Construction Worker   \n",
       "8        1-1    5.0            Test Story   \n",
       "60       2-1    5.0      The Time Machine   \n",
       "\n",
       "                                         Observations  \n",
       "21   Female character being described in terms of ...  \n",
       "25   Female character being described in terms of ...  \n",
       "20   Female character being described in terms of ...  \n",
       "0    Suggests there is a whole world where women h...  \n",
       "90   Female character is described in terms of her...  \n",
       "..                                                ...  \n",
       "14   States that female construction workers are v...  \n",
       "19   Based on an unprovable generalisation.\\n     ...  \n",
       "29   Female character being described in terms of ...  \n",
       "8    Suggests that female characters are not capab...  \n",
       "60   Female character is described in terms of bei...  \n",
       "\n",
       "[122 rows x 4 columns]"
      ]
     },
     "metadata": {},
     "output_type": "display_data"
    }
   ],
   "source": [
    "# @TODO WHY SHORTER NOW LONGER than the above? Nested??\n",
    "# unique: storyid-segmentid\n",
    "\n",
    "query = {}\n",
    "cursor = collection.find(query)\n",
    "\n",
    "scorelist = []\n",
    "commentlist = []\n",
    "observationlist = []\n",
    "segmentlist = []\n",
    "titlelist = []\n",
    "\n",
    "try:\n",
    "    for doc in cursor:\n",
    "        for i in range(0,len(doc['scores'])):\n",
    "            if math.isnan( int(\"0\"+str(doc['scores'][i]))):\n",
    "                continue\n",
    "            else:\n",
    "                try:\n",
    "                    scorelist.append(float(\"0\"+doc['scores'][i] ) )\n",
    "                except:\n",
    "                    scorelist.append(0.0) \n",
    "                try:\n",
    "                    commentlist.append(doc['comments'][i])\n",
    "                except:\n",
    "                    commentlist.append(\"Default-Comment\")                   \n",
    "                try:\n",
    "                    observationlist.append(doc['observations'][i])\n",
    "                except:\n",
    "                    observationlist.append(\"Default-Observation\")\n",
    "\n",
    "                    \n",
    "\n",
    "        for t in doc['processed_story_segment']:\n",
    "            titlelist.append(doc['processed_story_segment']['story_segment']['story']['title'])\n",
    "        for i in doc['processed_story_segment']:\n",
    "            segmentlist.append(str(doc['processed_story_segment']['story_segment']['story']['story_id'])+'-'+str(doc['processed_story_segment']['story_segment']['story_segment_id']))\n",
    "  \n",
    "\n",
    "            \n",
    "finally:\n",
    "    client.close()\n",
    "\n",
    "textdf = pd.DataFrame(list(zip(segmentlist, scorelist, titlelist, observationlist)),columns=['SegmentId', 'Score', 'Title', 'Observations']).sort_values(['Score'])\n",
    "#textdf['Score'] = textdf['Score'].replace('', np.nan).astype(float)\n",
    "display(textdf)\n",
    "\n",
    "#print('segmentid', segmentlist) #@TODO!! just 1\n",
    "# print('commentlist', commentlist) "
   ]
  },
  {
   "cell_type": "markdown",
   "metadata": {},
   "source": [
    "### Initial counts analysis"
   ]
  },
  {
   "cell_type": "code",
   "execution_count": 52,
   "metadata": {},
   "outputs": [
    {
     "ename": "TypeError",
     "evalue": "unorderable types: float() < str()",
     "output_type": "error",
     "traceback": [
      "\u001b[0;31m---------------------------------------------------------------------------\u001b[0m",
      "\u001b[0;31mTypeError\u001b[0m                                 Traceback (most recent call last)",
      "\u001b[0;32m<ipython-input-52-ede93ab631e9>\u001b[0m in \u001b[0;36m<module>\u001b[0;34m\u001b[0m\n\u001b[1;32m      1\u001b[0m \u001b[0;31m# What are the frequencies of scores?\u001b[0m\u001b[0;34m\u001b[0m\u001b[0;34m\u001b[0m\u001b[0m\n\u001b[1;32m      2\u001b[0m \u001b[0;31m#totalcount = pd.DataFrame(df.stack().value_counts()).sort_index()\u001b[0m\u001b[0;34m\u001b[0m\u001b[0;34m\u001b[0m\u001b[0m\n\u001b[0;32m----> 3\u001b[0;31m \u001b[0mtotalcount\u001b[0m \u001b[0;34m=\u001b[0m \u001b[0mpd\u001b[0m\u001b[0;34m.\u001b[0m\u001b[0mDataFrame\u001b[0m\u001b[0;34m(\u001b[0m\u001b[0mtextdf\u001b[0m\u001b[0;34m.\u001b[0m\u001b[0mstack\u001b[0m\u001b[0;34m(\u001b[0m\u001b[0;34m)\u001b[0m\u001b[0;34m.\u001b[0m\u001b[0mvalue_counts\u001b[0m\u001b[0;34m(\u001b[0m\u001b[0;34m)\u001b[0m\u001b[0;34m)\u001b[0m\u001b[0;34m.\u001b[0m\u001b[0msort_index\u001b[0m\u001b[0;34m(\u001b[0m\u001b[0;34m)\u001b[0m\u001b[0;34m\u001b[0m\u001b[0m\n\u001b[0m\u001b[1;32m      4\u001b[0m \u001b[0mprint\u001b[0m\u001b[0;34m(\u001b[0m\u001b[0mtotalcount\u001b[0m\u001b[0;34m)\u001b[0m\u001b[0;34m\u001b[0m\u001b[0m\n\u001b[1;32m      5\u001b[0m \u001b[0;34m\u001b[0m\u001b[0m\n",
      "\u001b[0;32m~/.pyenv/versions/3.5.9/lib/python3.5/site-packages/pandas/core/frame.py\u001b[0m in \u001b[0;36msort_index\u001b[0;34m(self, axis, level, ascending, inplace, kind, na_position, sort_remaining, by)\u001b[0m\n\u001b[1;32m   5088\u001b[0m \u001b[0;34m\u001b[0m\u001b[0m\n\u001b[1;32m   5089\u001b[0m             indexer = nargsort(\n\u001b[0;32m-> 5090\u001b[0;31m                 \u001b[0mlabels\u001b[0m\u001b[0;34m,\u001b[0m \u001b[0mkind\u001b[0m\u001b[0;34m=\u001b[0m\u001b[0mkind\u001b[0m\u001b[0;34m,\u001b[0m \u001b[0mascending\u001b[0m\u001b[0;34m=\u001b[0m\u001b[0mascending\u001b[0m\u001b[0;34m,\u001b[0m \u001b[0mna_position\u001b[0m\u001b[0;34m=\u001b[0m\u001b[0mna_position\u001b[0m\u001b[0;34m\u001b[0m\u001b[0m\n\u001b[0m\u001b[1;32m   5091\u001b[0m             )\n\u001b[1;32m   5092\u001b[0m \u001b[0;34m\u001b[0m\u001b[0m\n",
      "\u001b[0;32m~/.pyenv/versions/3.5.9/lib/python3.5/site-packages/pandas/core/sorting.py\u001b[0m in \u001b[0;36mnargsort\u001b[0;34m(items, kind, ascending, na_position)\u001b[0m\n\u001b[1;32m    258\u001b[0m         \u001b[0mnon_nans\u001b[0m \u001b[0;34m=\u001b[0m \u001b[0mnon_nans\u001b[0m\u001b[0;34m[\u001b[0m\u001b[0;34m:\u001b[0m\u001b[0;34m:\u001b[0m\u001b[0;34m-\u001b[0m\u001b[0;36m1\u001b[0m\u001b[0;34m]\u001b[0m\u001b[0;34m\u001b[0m\u001b[0m\n\u001b[1;32m    259\u001b[0m         \u001b[0mnon_nan_idx\u001b[0m \u001b[0;34m=\u001b[0m \u001b[0mnon_nan_idx\u001b[0m\u001b[0;34m[\u001b[0m\u001b[0;34m:\u001b[0m\u001b[0;34m:\u001b[0m\u001b[0;34m-\u001b[0m\u001b[0;36m1\u001b[0m\u001b[0;34m]\u001b[0m\u001b[0;34m\u001b[0m\u001b[0m\n\u001b[0;32m--> 260\u001b[0;31m     \u001b[0mindexer\u001b[0m \u001b[0;34m=\u001b[0m \u001b[0mnon_nan_idx\u001b[0m\u001b[0;34m[\u001b[0m\u001b[0mnon_nans\u001b[0m\u001b[0;34m.\u001b[0m\u001b[0margsort\u001b[0m\u001b[0;34m(\u001b[0m\u001b[0mkind\u001b[0m\u001b[0;34m=\u001b[0m\u001b[0mkind\u001b[0m\u001b[0;34m)\u001b[0m\u001b[0;34m]\u001b[0m\u001b[0;34m\u001b[0m\u001b[0m\n\u001b[0m\u001b[1;32m    261\u001b[0m     \u001b[0;32mif\u001b[0m \u001b[0;32mnot\u001b[0m \u001b[0mascending\u001b[0m\u001b[0;34m:\u001b[0m\u001b[0;34m\u001b[0m\u001b[0m\n\u001b[1;32m    262\u001b[0m         \u001b[0mindexer\u001b[0m \u001b[0;34m=\u001b[0m \u001b[0mindexer\u001b[0m\u001b[0;34m[\u001b[0m\u001b[0;34m:\u001b[0m\u001b[0;34m:\u001b[0m\u001b[0;34m-\u001b[0m\u001b[0;36m1\u001b[0m\u001b[0;34m]\u001b[0m\u001b[0;34m\u001b[0m\u001b[0m\n",
      "\u001b[0;31mTypeError\u001b[0m: unorderable types: float() < str()"
     ]
    }
   ],
   "source": [
    "# What are the frequencies of scores?\n",
    "#totalcount = pd.DataFrame(df.stack().value_counts()).sort_index()\n",
    "totalcount = pd.DataFrame(textdf.stack().value_counts()).sort_index()\n",
    "print(totalcount)\n",
    "\n",
    "ax = sns.heatmap(totalcount, square=True, cmap=\"GnBu\", annot=True)\n",
    "ax.invert_yaxis()"
   ]
  },
  {
   "cell_type": "code",
   "execution_count": 9,
   "metadata": {},
   "outputs": [
    {
     "name": "stdout",
     "output_type": "stream",
     "text": [
      "    SegmentId  Score  scorecounts\n",
      "0           1    1.0           18\n",
      "1           1    2.0           14\n",
      "2           1    3.0           21\n",
      "3           1    4.0           19\n",
      "4           1    5.0           15\n",
      "5           2    1.0            5\n",
      "6           2    2.0           11\n",
      "7           2    3.0            4\n",
      "8           2    4.0            3\n",
      "9           3    2.0            3\n",
      "10          3    3.0            3\n",
      "11          3    4.0            1\n",
      "12          3    5.0            2\n"
     ]
    },
    {
     "data": {
      "text/plain": [
       "<matplotlib.axes._subplots.AxesSubplot at 0x7f4811ec5588>"
      ]
     },
     "execution_count": 9,
     "metadata": {},
     "output_type": "execute_result"
    },
    {
     "data": {
      "image/png": "[encoded data removed]",
      "text/plain": [
       "<Figure size 432x288 with 2 Axes>"
      ]
     },
     "metadata": {
      "needs_background": "light"
     },
     "output_type": "display_data"
    }
   ],
   "source": [
    "# Grouping and printing score frequencies\n",
    "\n",
    "textdfcount = textdf.groupby(['SegmentId', 'Score']).size().reset_index(name='scorecounts')\n",
    "textdfcount = textdfcount[textdfcount['Score'].notna()] # removing 0 vals\n",
    "print(textdfcount)\n",
    "\n",
    "\n",
    "sns.heatmap(textdfcount, cmap=\"YlGnBu\", mask=textdfcount.isnull())\n"
   ]
  },
  {
   "cell_type": "code",
   "execution_count": null,
   "metadata": {},
   "outputs": [],
   "source": []
  },
  {
   "cell_type": "code",
   "execution_count": 10,
   "metadata": {},
   "outputs": [
    {
     "name": "stdout",
     "output_type": "stream",
     "text": [
      "                  Score\n",
      "SegmentId  count  1.0      23.000000\n",
      "                  2.0      28.000000\n",
      "                  3.0      28.000000\n",
      "                  4.0      23.000000\n",
      "                  5.0      17.000000\n",
      "           mean   1.0       1.217391\n",
      "                  2.0       1.607143\n",
      "                  3.0       1.357143\n",
      "                  4.0       1.217391\n",
      "                  5.0       1.235294\n",
      "           std    1.0       0.421741\n",
      "                  2.0       0.685257\n",
      "                  3.0       0.678467\n",
      "                  4.0       0.518435\n",
      "                  5.0       0.664211\n",
      "           min    1.0       1.000000\n",
      "                  2.0       1.000000\n",
      "                  3.0       1.000000\n",
      "                  4.0       1.000000\n",
      "                  5.0       1.000000\n",
      "           25%    1.0       1.000000\n",
      "                  2.0       1.000000\n",
      "                  3.0       1.000000\n",
      "                  4.0       1.000000\n",
      "                  5.0       1.000000\n",
      "           50%    1.0       1.000000\n",
      "                  2.0       1.500000\n",
      "                  3.0       1.000000\n",
      "                  4.0       1.000000\n",
      "                  5.0       1.000000\n",
      "           75%    1.0       1.000000\n",
      "                  2.0       2.000000\n",
      "                  3.0       1.250000\n",
      "                  4.0       1.000000\n",
      "                  5.0       1.000000\n",
      "           max    1.0       2.000000\n",
      "                  2.0       3.000000\n",
      "                  3.0       3.000000\n",
      "                  4.0       3.000000\n",
      "                  5.0       3.000000\n",
      "dtype: float64\n"
     ]
    }
   ],
   "source": [
    "# Grouping and printing score frequencies\n",
    "\n",
    "print(textdf.groupby('Score').describe().unstack(1))\n"
   ]
  },
  {
   "cell_type": "code",
   "execution_count": null,
   "metadata": {},
   "outputs": [],
   "source": []
  }
 ],
 "metadata": {
  "kernelspec": {
   "display_name": "Python 3",
   "language": "python",
   "name": "python3"
  },
  "language_info": {
   "codemirror_mode": {
    "name": "ipython",
    "version": 3
   },
   "file_extension": ".py",
   "mimetype": "text/x-python",
   "name": "python",
   "nbconvert_exporter": "python",
   "pygments_lexer": "ipython3",
   "version": "3.5.9"
  }
 },
 "nbformat": 4,
 "nbformat_minor": 4
}
